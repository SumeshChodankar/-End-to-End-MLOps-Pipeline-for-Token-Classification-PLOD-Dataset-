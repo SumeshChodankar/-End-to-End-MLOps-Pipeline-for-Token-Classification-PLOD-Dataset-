{
  "nbformat": 4,
  "nbformat_minor": 0,
  "metadata": {
    "colab": {
      "provenance": [],
      "gpuType": "T4"
    },
    "kernelspec": {
      "name": "python3",
      "display_name": "Python 3"
    },
    "language_info": {
      "name": "python"
    },
    "accelerator": "GPU"
  },
  "cells": [
    {
      "cell_type": "code",
      "execution_count": 9,
      "metadata": {
        "colab": {
          "base_uri": "https://localhost:8080/"
        },
        "id": "aYtVYeuSq9w9",
        "outputId": "431e008e-bbc3-4ccc-a04d-8f31d31910bf"
      },
      "outputs": [
        {
          "output_type": "stream",
          "name": "stdout",
          "text": [
            "Requirement already satisfied: datasets in /usr/local/lib/python3.10/dist-packages (2.19.0)\n",
            "Requirement already satisfied: filelock in /usr/local/lib/python3.10/dist-packages (from datasets) (3.14.0)\n",
            "Requirement already satisfied: numpy>=1.17 in /usr/local/lib/python3.10/dist-packages (from datasets) (1.25.2)\n",
            "Requirement already satisfied: pyarrow>=12.0.0 in /usr/local/lib/python3.10/dist-packages (from datasets) (14.0.2)\n",
            "Requirement already satisfied: pyarrow-hotfix in /usr/local/lib/python3.10/dist-packages (from datasets) (0.6)\n",
            "Requirement already satisfied: dill<0.3.9,>=0.3.0 in /usr/local/lib/python3.10/dist-packages (from datasets) (0.3.8)\n",
            "Requirement already satisfied: pandas in /usr/local/lib/python3.10/dist-packages (from datasets) (2.0.3)\n",
            "Requirement already satisfied: requests>=2.19.0 in /usr/local/lib/python3.10/dist-packages (from datasets) (2.31.0)\n",
            "Requirement already satisfied: tqdm>=4.62.1 in /usr/local/lib/python3.10/dist-packages (from datasets) (4.66.2)\n",
            "Requirement already satisfied: xxhash in /usr/local/lib/python3.10/dist-packages (from datasets) (3.4.1)\n",
            "Requirement already satisfied: multiprocess in /usr/local/lib/python3.10/dist-packages (from datasets) (0.70.16)\n",
            "Requirement already satisfied: fsspec[http]<=2024.3.1,>=2023.1.0 in /usr/local/lib/python3.10/dist-packages (from datasets) (2023.6.0)\n",
            "Requirement already satisfied: aiohttp in /usr/local/lib/python3.10/dist-packages (from datasets) (3.9.5)\n",
            "Requirement already satisfied: huggingface-hub>=0.21.2 in /usr/local/lib/python3.10/dist-packages (from datasets) (0.23.0)\n",
            "Requirement already satisfied: packaging in /usr/local/lib/python3.10/dist-packages (from datasets) (24.0)\n",
            "Requirement already satisfied: pyyaml>=5.1 in /usr/local/lib/python3.10/dist-packages (from datasets) (6.0.1)\n",
            "Requirement already satisfied: aiosignal>=1.1.2 in /usr/local/lib/python3.10/dist-packages (from aiohttp->datasets) (1.3.1)\n",
            "Requirement already satisfied: attrs>=17.3.0 in /usr/local/lib/python3.10/dist-packages (from aiohttp->datasets) (23.2.0)\n",
            "Requirement already satisfied: frozenlist>=1.1.1 in /usr/local/lib/python3.10/dist-packages (from aiohttp->datasets) (1.4.1)\n",
            "Requirement already satisfied: multidict<7.0,>=4.5 in /usr/local/lib/python3.10/dist-packages (from aiohttp->datasets) (6.0.5)\n",
            "Requirement already satisfied: yarl<2.0,>=1.0 in /usr/local/lib/python3.10/dist-packages (from aiohttp->datasets) (1.9.4)\n",
            "Requirement already satisfied: async-timeout<5.0,>=4.0 in /usr/local/lib/python3.10/dist-packages (from aiohttp->datasets) (4.0.3)\n",
            "Requirement already satisfied: typing-extensions>=3.7.4.3 in /usr/local/lib/python3.10/dist-packages (from huggingface-hub>=0.21.2->datasets) (4.11.0)\n",
            "Requirement already satisfied: charset-normalizer<4,>=2 in /usr/local/lib/python3.10/dist-packages (from requests>=2.19.0->datasets) (3.3.2)\n",
            "Requirement already satisfied: idna<4,>=2.5 in /usr/local/lib/python3.10/dist-packages (from requests>=2.19.0->datasets) (3.7)\n",
            "Requirement already satisfied: urllib3<3,>=1.21.1 in /usr/local/lib/python3.10/dist-packages (from requests>=2.19.0->datasets) (2.0.7)\n",
            "Requirement already satisfied: certifi>=2017.4.17 in /usr/local/lib/python3.10/dist-packages (from requests>=2.19.0->datasets) (2024.2.2)\n",
            "Requirement already satisfied: python-dateutil>=2.8.2 in /usr/local/lib/python3.10/dist-packages (from pandas->datasets) (2.8.2)\n",
            "Requirement already satisfied: pytz>=2020.1 in /usr/local/lib/python3.10/dist-packages (from pandas->datasets) (2023.4)\n",
            "Requirement already satisfied: tzdata>=2022.1 in /usr/local/lib/python3.10/dist-packages (from pandas->datasets) (2024.1)\n",
            "Requirement already satisfied: six>=1.5 in /usr/local/lib/python3.10/dist-packages (from python-dateutil>=2.8.2->pandas->datasets) (1.16.0)\n",
            "Requirement already satisfied: TextBlob in /usr/local/lib/python3.10/dist-packages (0.17.1)\n",
            "Requirement already satisfied: nltk>=3.1 in /usr/local/lib/python3.10/dist-packages (from TextBlob) (3.8.1)\n",
            "Requirement already satisfied: click in /usr/local/lib/python3.10/dist-packages (from nltk>=3.1->TextBlob) (8.1.7)\n",
            "Requirement already satisfied: joblib in /usr/local/lib/python3.10/dist-packages (from nltk>=3.1->TextBlob) (1.4.0)\n",
            "Requirement already satisfied: regex>=2021.8.3 in /usr/local/lib/python3.10/dist-packages (from nltk>=3.1->TextBlob) (2023.12.25)\n",
            "Requirement already satisfied: tqdm in /usr/local/lib/python3.10/dist-packages (from nltk>=3.1->TextBlob) (4.66.2)\n"
          ]
        },
        {
          "output_type": "stream",
          "name": "stderr",
          "text": [
            "[nltk_data] Downloading package wordnet to /root/nltk_data...\n",
            "[nltk_data]   Package wordnet is already up-to-date!\n"
          ]
        }
      ],
      "source": [
        "!pip install datasets\n",
        "!pip install TextBlob\n",
        "import torch\n",
        "import pandas as pd\n",
        "import torch.nn as nn\n",
        "from torch.utils.data import Dataset, DataLoader\n",
        "from torch.optim import Adam ,SGD\n",
        "from sklearn.feature_extraction.text import TfidfVectorizer\n",
        "from datasets import load_dataset\n",
        "from sklearn.preprocessing import LabelEncoder\n",
        "from textblob import TextBlob, Word\n",
        "import nltk\n",
        "nltk.download('wordnet')\n",
        "from sklearn.metrics import classification_report, accuracy_score\n",
        "from sklearn.metrics import confusion_matrix\n",
        "import matplotlib.pyplot as plt\n",
        "import seaborn as sns"
      ]
    },
    {
      "cell_type": "markdown",
      "source": [
        "## Load datasets"
      ],
      "metadata": {
        "id": "B5hPHMW_siq2"
      }
    },
    {
      "cell_type": "code",
      "source": [
        "train_dataset = load_dataset(\"surrey-nlp/PLOD-CW\", split='train')\n",
        "test_dataset = load_dataset(\"surrey-nlp/PLOD-CW\", split='test')\n",
        "validation_dataset = load_dataset(\"surrey-nlp/PLOD-CW\", split='train')"
      ],
      "metadata": {
        "id": "ZPc0NiTGrKIH"
      },
      "execution_count": 10,
      "outputs": []
    },
    {
      "cell_type": "markdown",
      "source": [
        "# Data Pre-Processing"
      ],
      "metadata": {
        "id": "Q1HF6lG-kseV"
      }
    },
    {
      "cell_type": "code",
      "source": [
        "def lemmatize_tokens(tokens):\n",
        "    #Lemmatize list of tokens\n",
        "    lemmatized_tokens = []\n",
        "    for token in tokens:\n",
        "        word = Word(token)\n",
        "        lemmatized_token = word.lemmatize()\n",
        "        lemmatized_tokens.append(lemmatized_token)\n",
        "    return lemmatized_tokens\n",
        "\n",
        "def apply_lemmatization_to_dataset(dataset):\n",
        "    #Add a new field for lemmatized tokens\n",
        "    lemmatized_texts = []\n",
        "    for example in dataset:\n",
        "        lemmatized_text = lemmatize_tokens(example['tokens'])\n",
        "        lemmatized_texts.append(lemmatized_text)\n",
        "    dataset = dataset.add_column(\"lemmatized_tokens\", lemmatized_texts)\n",
        "    return dataset\n",
        "\n",
        "# Applying lemmatization to both train and test datasets\n",
        "train_dataset = apply_lemmatization_to_dataset(train_dataset)\n",
        "test_dataset = apply_lemmatization_to_dataset(test_dataset)\n",
        "validation_dataset = apply_lemmatization_to_dataset(validation_dataset)"
      ],
      "metadata": {
        "id": "_jt94lEldGZi"
      },
      "execution_count": 3,
      "outputs": []
    },
    {
      "cell_type": "markdown",
      "source": [
        "# Create a corpus from tokens\n"
      ],
      "metadata": {
        "id": "BdGN1ebys8h2"
      }
    },
    {
      "cell_type": "code",
      "source": [
        "train_texts=train_dataset['lemmatized_tokens']\n",
        "test_texts=test_dataset['lemmatized_tokens']\n",
        "validation_texts=test_dataset['lemmatized_tokens']"
      ],
      "metadata": {
        "id": "UF4IlBrqs2df"
      },
      "execution_count": 4,
      "outputs": []
    },
    {
      "cell_type": "markdown",
      "source": [
        "# Initialize TF-IDF Vectorizer\n"
      ],
      "metadata": {
        "id": "sVVHjWoXtH6L"
      }
    },
    {
      "cell_type": "code",
      "source": [
        "train_texts_flat = [label for sublist in train_texts for label in sublist]\n",
        "test_texts_flat = [label for sublist in test_texts for label in sublist]\n",
        "validation_texts_flat = [label for sublist in validation_texts for label in sublist]\n",
        "\n",
        "vectorizer = TfidfVectorizer(max_features=3000)  # Adjust max_features\n",
        "vectorizer.fit(train_texts_flat + test_texts_flat)  # to ensure vocabulary coverage\n"
      ],
      "metadata": {
        "colab": {
          "base_uri": "https://localhost:8080/",
          "height": 75
        },
        "id": "TDJIZUNrtFj-",
        "outputId": "1620ea08-f642-4d21-d90a-4214d1579314"
      },
      "execution_count": 5,
      "outputs": [
        {
          "output_type": "execute_result",
          "data": {
            "text/plain": [
              "TfidfVectorizer(max_features=3000)"
            ],
            "text/html": [
              "<style>#sk-container-id-1 {color: black;background-color: white;}#sk-container-id-1 pre{padding: 0;}#sk-container-id-1 div.sk-toggleable {background-color: white;}#sk-container-id-1 label.sk-toggleable__label {cursor: pointer;display: block;width: 100%;margin-bottom: 0;padding: 0.3em;box-sizing: border-box;text-align: center;}#sk-container-id-1 label.sk-toggleable__label-arrow:before {content: \"▸\";float: left;margin-right: 0.25em;color: #696969;}#sk-container-id-1 label.sk-toggleable__label-arrow:hover:before {color: black;}#sk-container-id-1 div.sk-estimator:hover label.sk-toggleable__label-arrow:before {color: black;}#sk-container-id-1 div.sk-toggleable__content {max-height: 0;max-width: 0;overflow: hidden;text-align: left;background-color: #f0f8ff;}#sk-container-id-1 div.sk-toggleable__content pre {margin: 0.2em;color: black;border-radius: 0.25em;background-color: #f0f8ff;}#sk-container-id-1 input.sk-toggleable__control:checked~div.sk-toggleable__content {max-height: 200px;max-width: 100%;overflow: auto;}#sk-container-id-1 input.sk-toggleable__control:checked~label.sk-toggleable__label-arrow:before {content: \"▾\";}#sk-container-id-1 div.sk-estimator input.sk-toggleable__control:checked~label.sk-toggleable__label {background-color: #d4ebff;}#sk-container-id-1 div.sk-label input.sk-toggleable__control:checked~label.sk-toggleable__label {background-color: #d4ebff;}#sk-container-id-1 input.sk-hidden--visually {border: 0;clip: rect(1px 1px 1px 1px);clip: rect(1px, 1px, 1px, 1px);height: 1px;margin: -1px;overflow: hidden;padding: 0;position: absolute;width: 1px;}#sk-container-id-1 div.sk-estimator {font-family: monospace;background-color: #f0f8ff;border: 1px dotted black;border-radius: 0.25em;box-sizing: border-box;margin-bottom: 0.5em;}#sk-container-id-1 div.sk-estimator:hover {background-color: #d4ebff;}#sk-container-id-1 div.sk-parallel-item::after {content: \"\";width: 100%;border-bottom: 1px solid gray;flex-grow: 1;}#sk-container-id-1 div.sk-label:hover label.sk-toggleable__label {background-color: #d4ebff;}#sk-container-id-1 div.sk-serial::before {content: \"\";position: absolute;border-left: 1px solid gray;box-sizing: border-box;top: 0;bottom: 0;left: 50%;z-index: 0;}#sk-container-id-1 div.sk-serial {display: flex;flex-direction: column;align-items: center;background-color: white;padding-right: 0.2em;padding-left: 0.2em;position: relative;}#sk-container-id-1 div.sk-item {position: relative;z-index: 1;}#sk-container-id-1 div.sk-parallel {display: flex;align-items: stretch;justify-content: center;background-color: white;position: relative;}#sk-container-id-1 div.sk-item::before, #sk-container-id-1 div.sk-parallel-item::before {content: \"\";position: absolute;border-left: 1px solid gray;box-sizing: border-box;top: 0;bottom: 0;left: 50%;z-index: -1;}#sk-container-id-1 div.sk-parallel-item {display: flex;flex-direction: column;z-index: 1;position: relative;background-color: white;}#sk-container-id-1 div.sk-parallel-item:first-child::after {align-self: flex-end;width: 50%;}#sk-container-id-1 div.sk-parallel-item:last-child::after {align-self: flex-start;width: 50%;}#sk-container-id-1 div.sk-parallel-item:only-child::after {width: 0;}#sk-container-id-1 div.sk-dashed-wrapped {border: 1px dashed gray;margin: 0 0.4em 0.5em 0.4em;box-sizing: border-box;padding-bottom: 0.4em;background-color: white;}#sk-container-id-1 div.sk-label label {font-family: monospace;font-weight: bold;display: inline-block;line-height: 1.2em;}#sk-container-id-1 div.sk-label-container {text-align: center;}#sk-container-id-1 div.sk-container {/* jupyter's `normalize.less` sets `[hidden] { display: none; }` but bootstrap.min.css set `[hidden] { display: none !important; }` so we also need the `!important` here to be able to override the default hidden behavior on the sphinx rendered scikit-learn.org. See: https://github.com/scikit-learn/scikit-learn/issues/21755 */display: inline-block !important;position: relative;}#sk-container-id-1 div.sk-text-repr-fallback {display: none;}</style><div id=\"sk-container-id-1\" class=\"sk-top-container\"><div class=\"sk-text-repr-fallback\"><pre>TfidfVectorizer(max_features=3000)</pre><b>In a Jupyter environment, please rerun this cell to show the HTML representation or trust the notebook. <br />On GitHub, the HTML representation is unable to render, please try loading this page with nbviewer.org.</b></div><div class=\"sk-container\" hidden><div class=\"sk-item\"><div class=\"sk-estimator sk-toggleable\"><input class=\"sk-toggleable__control sk-hidden--visually\" id=\"sk-estimator-id-1\" type=\"checkbox\" checked><label for=\"sk-estimator-id-1\" class=\"sk-toggleable__label sk-toggleable__label-arrow\">TfidfVectorizer</label><div class=\"sk-toggleable__content\"><pre>TfidfVectorizer(max_features=3000)</pre></div></div></div></div></div>"
            ]
          },
          "metadata": {},
          "execution_count": 5
        }
      ]
    },
    {
      "cell_type": "markdown",
      "source": [
        "# Transform datasets to TF-IDF vectors\n"
      ],
      "metadata": {
        "id": "5LkG5bthtml_"
      }
    },
    {
      "cell_type": "code",
      "source": [
        "train_vectors = vectorizer.transform(train_texts_flat).toarray()\n",
        "test_vectors = vectorizer.transform(test_texts_flat).toarray()\n",
        "validation_vectors = vectorizer.transform(validation_texts_flat).toarray()"
      ],
      "metadata": {
        "id": "jdxm4uzLtrXo"
      },
      "execution_count": 6,
      "outputs": []
    },
    {
      "cell_type": "markdown",
      "source": [
        "# label Encoding\n"
      ],
      "metadata": {
        "id": "BxpmekRhuHRE"
      }
    },
    {
      "cell_type": "code",
      "source": [
        "label_encoder = LabelEncoder()\n",
        "train_labels = label_encoder.fit_transform([tag for example in train_dataset[\"ner_tags\"] for tag in example])\n",
        "test_labels = label_encoder.transform([tag for example in test_dataset[\"ner_tags\"] for tag in example])\n",
        "validation_labels = label_encoder.fit_transform([tag for example in validation_dataset[\"ner_tags\"] for tag in example])\n",
        "\n",
        "class TFIDFDataset(Dataset):\n",
        "    def __init__(self, X, labels):\n",
        "        self.X = X\n",
        "        self.labels = labels\n",
        "\n",
        "    def __len__(self):\n",
        "        return len(self.X)\n",
        "\n",
        "    def __getitem__(self, idx):\n",
        "        return self.X[idx], self.labels[idx]"
      ],
      "metadata": {
        "id": "f_Ma5DqpuEUP"
      },
      "execution_count": 7,
      "outputs": []
    },
    {
      "cell_type": "markdown",
      "source": [
        "# Creating dataset instances\n"
      ],
      "metadata": {
        "id": "dCJxjaOPwSiL"
      }
    },
    {
      "cell_type": "code",
      "source": [
        "train_data = TFIDFDataset(train_vectors,train_labels)\n",
        "test_data = TFIDFDataset(test_vectors,test_labels)\n",
        "validation_data = TFIDFDataset(validation_vectors,validation_labels)\n",
        "\n",
        "print(train_data)\n",
        "print(test_data)\n",
        "print(validation_data)\n",
        "class BiLSTMModel(nn.Module):\n",
        "    def __init__(self, input_size, hidden_size, output_size):\n",
        "        super(BiLSTMModel, self).__init__()\n",
        "        self.Bilstm = nn.LSTM(input_size, hidden_size, batch_first=True)\n",
        "        self.fc = nn.Linear(hidden_size, output_size)\n",
        "\n",
        "    def forward(self, input_data):\n",
        "        # Reshape input_data to have sequence length of 1\n",
        "        input_data = input_data.unsqueeze(1)\n",
        "        Bilstm_output,(last_hidden_state, last_cell_state) = self.Bilstm(input_data)\n",
        "        # Extract the last hidden state\n",
        "        last_hidden_state = last_hidden_state.squeeze(0)  # squeeze sequence length dimension\n",
        "        return self.fc(last_hidden_state)"
      ],
      "metadata": {
        "colab": {
          "base_uri": "https://localhost:8080/"
        },
        "id": "P9N3zgCJvNgG",
        "outputId": "8096ba7d-6060-4900-b132-ea264fd34bef"
      },
      "execution_count": 8,
      "outputs": [
        {
          "output_type": "stream",
          "name": "stdout",
          "text": [
            "<__main__.TFIDFDataset object at 0x78ef48a26050>\n",
            "<__main__.TFIDFDataset object at 0x78ef48a27040>\n",
            "<__main__.TFIDFDataset object at 0x78ef48a260b0>\n"
          ]
        }
      ]
    },
    {
      "cell_type": "markdown",
      "source": [
        "# train the model\n"
      ],
      "metadata": {
        "id": "z2piBavc1krN"
      }
    },
    {
      "cell_type": "code",
      "source": [
        "# Update model parameters to match the TF-IDF feature size\n",
        "from sklearn.metrics import classification_report, accuracy_score\n",
        "\n",
        "input_size = train_vectors.shape[1]\n",
        "hidden_size = 100\n",
        "output_size = len(label_encoder.classes_)\n",
        "\n",
        "model = BiLSTMModel(input_size, hidden_size, output_size)\n",
        "\n",
        "def train_model(model, train_data, test_data, validation_data):\n",
        "    train_loader = DataLoader(train_data, batch_size=16, shuffle=True)\n",
        "    test_loader = DataLoader(test_data, batch_size=16, shuffle=False)\n",
        "    validation_loader = DataLoader(validation_data, batch_size=64, shuffle=False)\n",
        "\n",
        "\n",
        "    optimizer = Adam(model.parameters(), lr=0.0006)\n",
        "    #optimizer = SGD(model.parameters(), lr=0.006)\n",
        "    criterion = nn.CrossEntropyLoss()\n",
        "\n",
        "    for epoch in range(10):  # Training loop\n",
        "        model.train()\n",
        "        for texts, labels in train_loader:\n",
        "            texts = torch.tensor(texts, dtype=torch.float32)  # Ensure correct type\n",
        "            labels = torch.tensor(labels, dtype=torch.int64)\n",
        "            optimizer.zero_grad()\n",
        "            predictions = model(texts)\n",
        "            loss = criterion(predictions, labels)\n",
        "            loss.backward()\n",
        "            optimizer.step()\n",
        "\n",
        "        model.eval()\n",
        "        all_preds = []\n",
        "        all_labels = []\n",
        "        with torch.no_grad():\n",
        "          for texts, labels in test_loader:\n",
        "            texts = torch.tensor(texts, dtype=torch.float32)\n",
        "            labels = torch.tensor(labels, dtype=torch.int64)\n",
        "            predicted_labels = model(texts)\n",
        "            all_preds.extend(predicted_labels.argmax(1).tolist())\n",
        "            all_labels.extend(labels.tolist())\n",
        "\n",
        "        model.eval()\n",
        "        all_preds = []\n",
        "        all_labels = []\n",
        "        total_acc, total_count = 0, 0\n",
        "        with torch.no_grad():\n",
        "          for texts, labels in test_loader:\n",
        "            texts = torch.tensor(texts, dtype=torch.float32)\n",
        "            labels = torch.tensor(labels, dtype=torch.int64)\n",
        "            predicted_labels = model(texts)\n",
        "            all_preds.extend(predicted_labels.argmax(1).tolist())\n",
        "            all_labels.extend(labels.tolist())\n",
        "            total_acc += (predicted_labels.argmax(1) == labels).sum().item()\n",
        "            total_count += labels.size(0)\n",
        "\n",
        "        print(f'Epoch: {epoch}, Test Accuracy: {(total_acc / total_count):.4f}')\n",
        "\n",
        "# train_model(model, train_data, test_data)\n",
        "\n",
        "    # Calculate and print classification report\n",
        "    target_names = label_encoder.classes_.tolist()\n",
        "    print(classification_report(all_labels, all_preds, target_names=target_names, labels=range(len(target_names))))\n",
        "    plot_confusion_matrix(all_labels, all_preds,target_names)\n",
        "\n",
        "def plot_confusion_matrix(all_labels,all_preds,target_names):\n",
        "    target_names = label_encoder.classes_.tolist()\n",
        "    cm = confusion_matrix(all_labels, all_preds, labels=range(len(target_names)))\n",
        "    plt.figure(figsize=(6,4))\n",
        "    sns.heatmap(cm, annot=True, fmt=\"d\", cmap=\"BuPu\", xticklabels=target_names, yticklabels=target_names)\n",
        "    plt.xlabel('Predicted Labels')\n",
        "    plt.ylabel('True Labels')\n",
        "    plt.title('Confusion Matrix')\n",
        "    plt.show()\n",
        "\n",
        "train_model(model, train_data, test_data, validation_data)"
      ],
      "metadata": {
        "colab": {
          "base_uri": "https://localhost:8080/",
          "height": 983
        },
        "id": "yZa6RtCAw7Z1",
        "outputId": "019f7daa-fde3-4598-ab48-02907815ae31"
      },
      "execution_count": 25,
      "outputs": [
        {
          "output_type": "stream",
          "name": "stderr",
          "text": [
            "<ipython-input-25-55b56613cbca>:23: UserWarning: To copy construct from a tensor, it is recommended to use sourceTensor.clone().detach() or sourceTensor.clone().detach().requires_grad_(True), rather than torch.tensor(sourceTensor).\n",
            "  texts = torch.tensor(texts, dtype=torch.float32)  # Ensure correct type\n",
            "<ipython-input-25-55b56613cbca>:24: UserWarning: To copy construct from a tensor, it is recommended to use sourceTensor.clone().detach() or sourceTensor.clone().detach().requires_grad_(True), rather than torch.tensor(sourceTensor).\n",
            "  labels = torch.tensor(labels, dtype=torch.int64)\n",
            "<ipython-input-25-55b56613cbca>:36: UserWarning: To copy construct from a tensor, it is recommended to use sourceTensor.clone().detach() or sourceTensor.clone().detach().requires_grad_(True), rather than torch.tensor(sourceTensor).\n",
            "  texts = torch.tensor(texts, dtype=torch.float32)\n",
            "<ipython-input-25-55b56613cbca>:37: UserWarning: To copy construct from a tensor, it is recommended to use sourceTensor.clone().detach() or sourceTensor.clone().detach().requires_grad_(True), rather than torch.tensor(sourceTensor).\n",
            "  labels = torch.tensor(labels, dtype=torch.int64)\n",
            "<ipython-input-25-55b56613cbca>:48: UserWarning: To copy construct from a tensor, it is recommended to use sourceTensor.clone().detach() or sourceTensor.clone().detach().requires_grad_(True), rather than torch.tensor(sourceTensor).\n",
            "  texts = torch.tensor(texts, dtype=torch.float32)\n",
            "<ipython-input-25-55b56613cbca>:49: UserWarning: To copy construct from a tensor, it is recommended to use sourceTensor.clone().detach() or sourceTensor.clone().detach().requires_grad_(True), rather than torch.tensor(sourceTensor).\n",
            "  labels = torch.tensor(labels, dtype=torch.int64)\n"
          ]
        },
        {
          "output_type": "stream",
          "name": "stdout",
          "text": [
            "Epoch: 0, Test Accuracy: 0.8584\n",
            "Epoch: 1, Test Accuracy: 0.8614\n",
            "Epoch: 2, Test Accuracy: 0.8634\n",
            "Epoch: 3, Test Accuracy: 0.8672\n",
            "Epoch: 4, Test Accuracy: 0.8616\n",
            "Epoch: 5, Test Accuracy: 0.8628\n",
            "Epoch: 6, Test Accuracy: 0.8630\n",
            "Epoch: 7, Test Accuracy: 0.8618\n",
            "Epoch: 8, Test Accuracy: 0.8602\n",
            "Epoch: 9, Test Accuracy: 0.8624\n",
            "              precision    recall  f1-score   support\n",
            "\n",
            "        B-AC       0.72      0.26      0.39       270\n",
            "        B-LF       0.34      0.15      0.21       150\n",
            "         B-O       0.89      0.97      0.93      4292\n",
            "        I-LF       0.39      0.19      0.26       288\n",
            "\n",
            "    accuracy                           0.86      5000\n",
            "   macro avg       0.59      0.39      0.44      5000\n",
            "weighted avg       0.83      0.86      0.84      5000\n",
            "\n"
          ]
        },
        {
          "output_type": "display_data",
          "data": {
            "text/plain": [
              "<Figure size 600x400 with 2 Axes>"
            ],
            "image/png": "[encoded data removed]"
          },
          "metadata": {}
        }
      ]
    }
  ]
}